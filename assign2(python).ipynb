{
 "cells": [
  {
   "cell_type": "code",
   "execution_count": 29,
   "metadata": {},
   "outputs": [
    {
     "name": "stdout",
     "output_type": "stream",
     "text": [
      "      MARK SHEET          \n",
      "enter the mark of ist subject   \n",
      "67\n",
      "enter the mark of 2nd subject  \n",
      "87\n",
      "enter the mark of 3rd subject  \n",
      "67\n",
      "enter the mark of 4th subject \n",
      "89\n",
      "enter the mark of 5th subject \n",
      "78\n",
      "total marks 388\n",
      "per is  77.60000000000001\n",
      "B\n"
     ]
    }
   ],
   "source": [
    "print(\"      MARK SHEET          \")\n",
    "sub1=int(input(\"enter the mark of ist subject   \\n\"))\n",
    "sub2=int(input(\"enter the mark of 2nd subject  \\n\"))\n",
    "sub3=int(input(\"enter the mark of 3rd subject  \\n\"))\n",
    "sub4=int(input(\"enter the mark of 4th subject \\n\"))\n",
    "sub5=int(input(\"enter the mark of 5th subject \\n\"))\n",
    "total=sub1+sub2+sub3+sub4+sub5\n",
    "print(\"total marks\",total)\n",
    "per=float((total/500)*100)\n",
    "print(\"per is \",per)\n",
    "if (per>=80 and per<=100):\n",
    " print(\"A\")\n",
    "elif (per>=70 and per<=79):\n",
    " print(\"B\")\n",
    "elif (per>=60 and per<=69):\n",
    " print(\"C\")\n",
    "elif (per>= 0 and per<=59) :\n",
    " print(\"Fail\")\n"
   ]
  },
  {
   "cell_type": "code",
   "execution_count": 33,
   "metadata": {},
   "outputs": [
    {
     "name": "stdout",
     "output_type": "stream",
     "text": [
      "enter your number66\n",
      "number is even\n"
     ]
    }
   ],
   "source": [
    "num1=int(input(\"enter your number\"))\n",
    "if (num1%2==0):\n",
    " print(\"number is even\")\n",
    "else:\n",
    "    print(\"number is odd\")"
   ]
  },
  {
   "cell_type": "code",
   "execution_count": 78,
   "metadata": {},
   "outputs": [
    {
     "name": "stdout",
     "output_type": "stream",
     "text": [
      "6\n"
     ]
    }
   ],
   "source": [
    "arr=[\"mansoor\",\"furqan\",\"mustaq\",\"nadim\",\"waqar\",\"piyar ali\"]\n",
    "n=len(arr)\n",
    "print(n)"
   ]
  },
  {
   "cell_type": "code",
   "execution_count": 81,
   "metadata": {},
   "outputs": [
    {
     "name": "stdout",
     "output_type": "stream",
     "text": [
      "30\n"
     ]
    }
   ],
   "source": [
    "add=[5,3,4,5,6,7]\n",
    "b=sum(add)\n",
    "print(b)"
   ]
  },
  {
   "cell_type": "code",
   "execution_count": 82,
   "metadata": {},
   "outputs": [
    {
     "name": "stdout",
     "output_type": "stream",
     "text": [
      "100\n"
     ]
    }
   ],
   "source": [
    "g=[5,9,100,34,67]\n",
    "b=max(g)\n",
    "print(b)"
   ]
  },
  {
   "cell_type": "code",
   "execution_count": 84,
   "metadata": {},
   "outputs": [
    {
     "name": "stdout",
     "output_type": "stream",
     "text": [
      "1\n",
      "2\n",
      "3\n",
      "3\n",
      "4\n"
     ]
    }
   ],
   "source": [
    "a = [1, 82, 2, 3, 5, 8, 13, 21, 3, 55, 4]\n",
    "\n",
    "for i in a:\n",
    "\n",
    "    if i < 5:\n",
    "\n",
    "        print(i)"
   ]
  },
  {
   "cell_type": "code",
   "execution_count": null,
   "metadata": {},
   "outputs": [],
   "source": []
  }
 ],
 "metadata": {
  "kernelspec": {
   "display_name": "Python 3",
   "language": "python",
   "name": "python3"
  },
  "language_info": {
   "codemirror_mode": {
    "name": "ipython",
    "version": 3
   },
   "file_extension": ".py",
   "mimetype": "text/x-python",
   "name": "python",
   "nbconvert_exporter": "python",
   "pygments_lexer": "ipython3",
   "version": "3.7.4"
  }
 },
 "nbformat": 4,
 "nbformat_minor": 2
}
