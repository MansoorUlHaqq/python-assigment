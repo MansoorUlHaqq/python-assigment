{
 "cells": [
  {
   "cell_type": "code",
   "execution_count": 5,
   "metadata": {},
   "outputs": [
    {
     "name": "stdout",
     "output_type": "stream",
     "text": [
      "{'f.name': 'nadim', 'lname': 'khan', 'age': 23, 'city': 'karachi', 'qualfication': 'BE(EE)'}\n"
     ]
    }
   ],
   "source": [
    "data={\n",
    "    \"f.name\" :\"nadim\",\n",
    "     \"lname\" : \"khan\",\n",
    "     \"age\"   : 23,\n",
    "      \"city\" : \"karachi\",\n",
    "     \n",
    "}\n",
    "data[\"qualfication\"]=\"BE(EE)\"\n",
    "print(data)\n"
   ]
  },
  {
   "cell_type": "code",
   "execution_count": 18,
   "metadata": {},
   "outputs": [
    {
     "name": "stdout",
     "output_type": "stream",
     "text": [
      "karachi\n",
      "{'country': 'pakitan', 'population': '20millon approx', 'fact': 'city of lights'}\n",
      "lahore\n",
      "{'country': 'pakitan', 'population': '10millon approx', 'fact': 'old traditions'}\n",
      "islamabad\n",
      "{'country': 'pakitan', 'population': '5millon approx', 'fact': 'capital'}\n"
     ]
    }
   ],
   "source": [
    "cities=[\n",
    "   {\"city1\":\"karachi\",\n",
    "   \"city2\":\"lahore\",\n",
    "   \"city3\":\"islamabad\"\n",
    "},\n",
    "    {\n",
    "        \"country\":\"pakitan\",\n",
    "        \"population\":\"20millon approx\",\n",
    "        \"fact\":\"city of lights\",\n",
    "    },\n",
    "    {\n",
    "        \"country\":\"pakitan\",\n",
    "        \"population\":\"10millon approx\",\n",
    "        \"fact\":\"old traditions\",\n",
    "    },\n",
    "    {\n",
    "        \"country\":\"pakitan\",\n",
    "        \"population\":\"5millon approx\",\n",
    "        \"fact\":\"capital\",\n",
    "    }\n",
    "]\n",
    "print(cities[0][\"city1\"])\n",
    "print(cities[1])\n",
    "print(cities[0][\"city2\"])\n",
    "print(cities[2])\n",
    "print(cities[0][\"city3\"])\n",
    "print(cities[3])\n",
    "\n",
    "    \n"
   ]
  },
  {
   "cell_type": "code",
   "execution_count": null,
   "metadata": {
    "scrolled": true
   },
   "outputs": [],
   "source": []
  },
  {
   "cell_type": "code",
   "execution_count": null,
   "metadata": {},
   "outputs": [],
   "source": [
    "info=[\n",
    "    {\"question\" :\"tell me your age plz\",\n",
    "    \"options\"  :[\"your tkt isfree\",\" give me 10 $\",\" give me 15$\"]}\n",
    "]\n",
    "for question in info:\n",
    "    print(info[0][\"question\"])\n",
    "    answer=int (input())\n",
    "    if answer >0 and answer <=3 :\n",
    "     print((info[0][\"options\"][0]))\n",
    "    elif answer > 3 and answer<=12 :\n",
    "        print((info[0][\"options\"][1]))\n",
    "    else:\n",
    "        print((info[0][\"options\"][2]))\n",
    " "
   ]
  },
  {
   "cell_type": "code",
   "execution_count": null,
   "metadata": {},
   "outputs": [],
   "source": [
    "def favbook(title):\n",
    "    print(title)\n",
    "favbook(\"my favourite book is HOLY QURAN\")"
   ]
  },
  {
   "cell_type": "code",
   "execution_count": null,
   "metadata": {},
   "outputs": [],
   "source": [
    "from random import randint\n",
    "def guess(x):\n",
    "  it = randint(0,31)\n",
    "  if x == it:\n",
    "      print(\"You got it!\")\n",
    "  elif x > it:\n",
    "      print(\"too high\")\n",
    "  else:\n",
    "      print(\"too low\")\n",
    "print (guess(2))"
   ]
  },
  {
   "cell_type": "code",
   "execution_count": null,
   "metadata": {},
   "outputs": [],
   "source": []
  },
  {
   "cell_type": "code",
   "execution_count": null,
   "metadata": {},
   "outputs": [],
   "source": []
  },
  {
   "cell_type": "code",
   "execution_count": null,
   "metadata": {},
   "outputs": [],
   "source": []
  }
 ],
 "metadata": {
  "kernelspec": {
   "display_name": "Python 3",
   "language": "python",
   "name": "python3"
  },
  "language_info": {
   "codemirror_mode": {
    "name": "ipython",
    "version": 3
   },
   "file_extension": ".py",
   "mimetype": "text/x-python",
   "name": "python",
   "nbconvert_exporter": "python",
   "pygments_lexer": "ipython3",
   "version": "3.7.4"
  }
 },
 "nbformat": 4,
 "nbformat_minor": 2
}
