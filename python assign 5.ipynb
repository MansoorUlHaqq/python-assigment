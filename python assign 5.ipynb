{
 "cells": [
  {
   "cell_type": "code",
   "execution_count": 5,
   "metadata": {},
   "outputs": [
    {
     "name": "stdin",
     "output_type": "stream",
     "text": [
      "Enter a Positive Number you want Factorial of :  5\n"
     ]
    },
    {
     "name": "stdout",
     "output_type": "stream",
     "text": [
      "Factorial of the number is  120\n"
     ]
    }
   ],
   "source": [
    "def factorial(n):\n",
    "    if n == 0:\n",
    "        return 1\n",
    "    else:\n",
    "        return n * factorial(n-1)\n",
    "n=int(input(\"Input a number to compute the factiorial : \"))\n",
    "print(factorial(n))"
   ]
  },
  {
   "cell_type": "code",
   "execution_count": 2,
   "metadata": {},
   "outputs": [
    {
     "name": "stdout",
     "output_type": "stream",
     "text": [
      "Type a string : Mansoor\n",
      "Uppercase :  1\n",
      "Lowercase :  6\n"
     ]
    }
   ],
   "source": [
    "\n",
    "\n",
    "string = input (\"Type a string : \")\n",
    "\n",
    "def case( strings ) :\n",
    "    x = 0\n",
    "    y = 0\n",
    "    for a in strings :\n",
    "        if ( a.isupper() ) == True :\n",
    "            x += 1\n",
    "        elif ( a.islower()) == True :\n",
    "            y += 1\n",
    "    print(\"Uppercase : \",x)\n",
    "    print( \"Lowercase : \",y)\n",
    "    \n",
    "case( string )"
   ]
  },
  {
   "cell_type": "code",
   "execution_count": 15,
   "metadata": {},
   "outputs": [
    {
     "name": "stdout",
     "output_type": "stream",
     "text": [
      "10\n",
      "16\n",
      "80\n",
      "202\n"
     ]
    }
   ],
   "source": [
    "\n",
    "\n",
    "num_list = [1,5,10,16,45,69,80,202]\n",
    "\n",
    "def evennum( listn ) :\n",
    "    if listn % 2 == 0 :\n",
    "        print(listn)\n",
    "\n",
    "x = len( num_list )\n",
    "for a in range (x) :\n",
    "    evennum(num_list[a])"
   ]
  },
  {
   "cell_type": "code",
   "execution_count": 3,
   "metadata": {},
   "outputs": [
    {
     "name": "stdout",
     "output_type": "stream",
     "text": [
      " Type a word to check, is it Palindrome? :naran\n",
      " The word is Palindrome \n"
     ]
    }
   ],
   "source": [
    "\n",
    "\n",
    "check = input (\" Type a word to check, is it Palindrome? :\")\n",
    "\n",
    "def palndrm(string):\n",
    "    x = 0\n",
    "    y = len(string) - 1\n",
    "\n",
    "    while y >= x :\n",
    "        if not string[x] == string[y]:\n",
    "            return False\n",
    "        x += 1\n",
    "        y -= 1\n",
    "    return True\n",
    "\n",
    "ans = palndrm(check)\n",
    "if ans == True :\n",
    "    print (\" The word is Palindrome \")\n",
    "else :\n",
    "    print (\" The word is not Palindrome \")"
   ]
  },
  {
   "cell_type": "code",
   "execution_count": 4,
   "metadata": {},
   "outputs": [
    {
     "name": "stdout",
     "output_type": "stream",
     "text": [
      "Enter any number : 11\n",
      "The number is Prime \n"
     ]
    }
   ],
   "source": [
    "\n",
    "\n",
    "num = int(input(\"Enter any number : \"))\n",
    "\n",
    "def primnum( numb ) :\n",
    "    x = numb\n",
    "    y = 2\n",
    "    for a in range (numb) : \n",
    "        if y < numb :\n",
    "            if numb % y != 0 :\n",
    "                y += 1\n",
    "            else :\n",
    "                return False\n",
    "    return True\n",
    "ans = primnum(num)\n",
    "if ans == True :\n",
    "    print (\"The number is Prime \")\n",
    "else :\n",
    "    print (\"The number is not Prime \")"
   ]
  },
  {
   "cell_type": "code",
   "execution_count": null,
   "metadata": {},
   "outputs": [],
   "source": []
  },
  {
   "cell_type": "code",
   "execution_count": null,
   "metadata": {},
   "outputs": [
    {
     "name": "stdout",
     "output_type": "stream",
     "text": [
      "Enter Items Or Press 'q' to exit : fruits\n",
      "Enter Items Or Press 'q' to exit : bananas\n",
      "Enter Items Or Press 'q' to exit : tea\n",
      "Enter Items Or Press 'q' to exit : water\n"
     ]
    }
   ],
   "source": [
    "\n",
    "lists = []\n",
    "sl = ''\n",
    "def slist(*names):\n",
    "    names = input(\"Enter Items Or Press 'q' to exit : \")\n",
    "    if names != 'q' :\n",
    "        lists.append(names)\n",
    "    return names\n",
    "    \n",
    "\n",
    "while sl != 'q' :\n",
    "    sl = slist(sl)\n",
    "\n",
    "print(\"\\n\")\n",
    "print(lists)"
   ]
  },
  {
   "cell_type": "code",
   "execution_count": null,
   "metadata": {},
   "outputs": [],
   "source": []
  }
 ],
 "metadata": {
  "kernelspec": {
   "display_name": "Python 3",
   "language": "python",
   "name": "python3"
  },
  "language_info": {
   "codemirror_mode": {
    "name": "ipython",
    "version": 3
   },
   "file_extension": ".py",
   "mimetype": "text/x-python",
   "name": "python",
   "nbconvert_exporter": "python",
   "pygments_lexer": "ipython3",
   "version": "3.7.4"
  }
 },
 "nbformat": 4,
 "nbformat_minor": 4
}
