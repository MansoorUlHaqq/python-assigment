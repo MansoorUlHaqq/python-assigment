{
 "cells": [
  {
   "cell_type": "code",
   "execution_count": 32,
   "metadata": {},
   "outputs": [
    {
     "name": "stdout",
     "output_type": "stream",
     "text": [
      "enter operator^\n",
      "enter val12\n",
      "enter val23\n",
      "8 answer\n"
     ]
    }
   ],
   "source": [
    "operator = input(\"enter operator\")\n",
    "val1=int(input(\"enter val1\"))\n",
    "val2=int(input(\"enter val2\"))\n",
    "if operator == '+':\n",
    " val=val1 + val2\n",
    " print(val,\"answer\")\n",
    "elif operator == '*':\n",
    "    val=val1 * val2\n",
    "    print(val,\"answer\")\n",
    "elif operator == '-':\n",
    "    val=val1 - val2\n",
    "    print(val,\"answer\")\n",
    "elif operator == '/':\n",
    "    val=val1 / val2\n",
    "    print(val,\"answer\")\n",
    "elif operator == '^':\n",
    "    val=val1 ** val2 \n",
    "    print(val,\"answer\")\n",
    "    "
   ]
  },
  {
   "cell_type": "code",
   "execution_count": 47,
   "metadata": {},
   "outputs": [
    {
     "name": "stdout",
     "output_type": "stream",
     "text": [
      "2\n",
      "4\n",
      "34\n"
     ]
    }
   ],
   "source": [
    "data=[\"mansoor\",\"nadim\",2,\"leader\",4,\"mustaq\",\"waqar\",34]\n",
    "for num in data: \n",
    "  if num*0 == 0:\n",
    "     print(num)"
   ]
  },
  {
   "cell_type": "code",
   "execution_count": 57,
   "metadata": {},
   "outputs": [
    {
     "name": "stdout",
     "output_type": "stream",
     "text": [
      "{'name': 'nadim', 'reg': '33079', 'dep': 'beee', 'grade': 'A'}\n"
     ]
    }
   ],
   "source": [
    "student={\n",
    "    \"name\" : \"nadim\",\n",
    "     \"reg\" : \"33079\",\n",
    "     \"dep\" : \"beee\",\n",
    "}\n",
    "student[\"grade\"]=\"A\"\n",
    "print(student)"
   ]
  },
  {
   "cell_type": "code",
   "execution_count": null,
   "metadata": {},
   "outputs": [],
   "source": [
    "num={'mangoes':100,'Bananas':540,'Cup':239}\n",
    "print(\"Total sum of values in the dictionary:\")\n",
    "print(sum(num.values()))"
   ]
  },
  {
   "cell_type": "code",
   "execution_count": 130,
   "metadata": {},
   "outputs": [
    {
     "name": "stdout",
     "output_type": "stream",
     "text": [
      "4\n",
      "5\n",
      "10\n",
      "7\n",
      "8\n",
      "9\n"
     ]
    }
   ],
   "source": [
    "list1 = [4,5,4,10,7,8,9,5] \n",
    "list2=[]\n",
    "for num in list1: \n",
    "    if num  not in list2: \n",
    "            list2.append(num)\n",
    "            print(num)\n"
   ]
  },
  {
   "cell_type": "code",
   "execution_count": 154,
   "metadata": {},
   "outputs": [
    {
     "name": "stdout",
     "output_type": "stream",
     "text": [
      "enter your keyd\n",
      "ok wait the process started to ad just your key\n"
     ]
    }
   ],
   "source": [
    "x = {'z': 10, 'l': 50, 'c': 74, 'm': 12, 'f': 44, 'g': 19}\n",
    " \n",
    "y=input(\"enter your key\")\n",
    "for i in x.keys():\n",
    "    if y in i:\n",
    "        print(\"key is alreday exist give some other\")\n",
    "else:\n",
    "         print(\"ok wait the process started to ad just your key\")\n"
   ]
  },
  {
   "cell_type": "code",
   "execution_count": null,
   "metadata": {},
   "outputs": [],
   "source": []
  }
 ],
 "metadata": {
  "kernelspec": {
   "display_name": "Python 3",
   "language": "python",
   "name": "python3"
  },
  "language_info": {
   "codemirror_mode": {
    "name": "ipython",
    "version": 3
   },
   "file_extension": ".py",
   "mimetype": "text/x-python",
   "name": "python",
   "nbconvert_exporter": "python",
   "pygments_lexer": "ipython3",
   "version": "3.7.4"
  }
 },
 "nbformat": 4,
 "nbformat_minor": 2
}
