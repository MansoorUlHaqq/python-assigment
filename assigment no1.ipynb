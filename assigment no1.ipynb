{
 "cells": [
  {
   "cell_type": "code",
   "execution_count": 1,
   "metadata": {},
   "outputs": [
    {
     "name": "stdout",
     "output_type": "stream",
     "text": [
      "twinkle, twinkle, little star,\n",
      "    how i wonder what you are!\n",
      "        up above the world so high,\n",
      "        like a diamond in the sky.\n",
      "twinkle, twinkle, little star,\n",
      "    how i wonder what you are!\n",
      "\n"
     ]
    }
   ],
   "source": [
    "w=\"twinkle,\"\n",
    "x=\"little star,\"\n",
    "z=\"how i wonder what you are!\"\n",
    "a=\"up above the world so high,\"\n",
    "b=\"like a diamond in the sky.\"\n",
    "print(w+\" \" +w+\" \"+x+\"\\n \"\n",
    "           \"   \"+z+\"\\n\"\n",
    "     \"        \"+a+\"\\n\"\"        \"+b+\"\\n\"\n",
    "     +w+\" \" +w+\" \"+x+\"\\n \"\n",
    "           \"   \"+z+\"\\n\")"
   ]
  },
  {
   "cell_type": "code",
   "execution_count": 36,
   "metadata": {},
   "outputs": [
    {
     "name": "stdout",
     "output_type": "stream",
     "text": [
      "3.7.4\n"
     ]
    }
   ],
   "source": [
    "import platform\n",
    " \n",
    "print(platform.python_version())"
   ]
  },
  {
   "cell_type": "code",
   "execution_count": 37,
   "metadata": {},
   "outputs": [
    {
     "name": "stdout",
     "output_type": "stream",
     "text": [
      "2019-11-01 15:04:06.117774\n"
     ]
    }
   ],
   "source": [
    "import datetime\n",
    "print(datetime.datetime.now())\n"
   ]
  },
  {
   "cell_type": "code",
   "execution_count": 41,
   "metadata": {},
   "outputs": [
    {
     "name": "stdout",
     "output_type": "stream",
     "text": [
      "enter the radius2\n",
      "12.56\n"
     ]
    }
   ],
   "source": [
    "r=input(\"enter the radius\")\n",
    "pi=3.14\n",
    "area=2*float(r)*pi\n",
    "print(area)"
   ]
  },
  {
   "cell_type": "code",
   "execution_count": 43,
   "metadata": {},
   "outputs": [
    {
     "name": "stdout",
     "output_type": "stream",
     "text": [
      "enter the first number2\n",
      "enter the seconde number3\n",
      "5\n"
     ]
    }
   ],
   "source": [
    "num1=int(input(\"enter the first number\"))\n",
    "num2=int(input(\"enter the seconde number\") )\n",
    "add=num1+num2\n",
    "print(add)"
   ]
  },
  {
   "cell_type": "code",
   "execution_count": 46,
   "metadata": {},
   "outputs": [
    {
     "name": "stdout",
     "output_type": "stream",
     "text": [
      "enter your first name mansoor\n",
      "enter you last name ulhaq\n",
      "ulhaq mansoor\n"
     ]
    }
   ],
   "source": [
    "fname=input(\"enter your first name \")\n",
    "lname=input(\"enter you last name \")\n",
    "print(lname+\" \"+fname)"
   ]
  },
  {
   "cell_type": "code",
   "execution_count": null,
   "metadata": {},
   "outputs": [],
   "source": []
  }
 ],
 "metadata": {
  "kernelspec": {
   "display_name": "Python 3",
   "language": "python",
   "name": "python3"
  },
  "language_info": {
   "codemirror_mode": {
    "name": "ipython",
    "version": 3
   },
   "file_extension": ".py",
   "mimetype": "text/x-python",
   "name": "python",
   "nbconvert_exporter": "python",
   "pygments_lexer": "ipython3",
   "version": "3.7.4"
  }
 },
 "nbformat": 4,
 "nbformat_minor": 2
}
